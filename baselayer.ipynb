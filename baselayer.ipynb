{
 "cells": [
  {
   "cell_type": "code",
   "execution_count": 1,
   "metadata": {
    "collapsed": true
   },
   "outputs": [],
   "source": [
    "import pandas as pd\n",
    "import numpy as np\n",
    "from pyowm import OWM"
   ]
  },
  {
   "cell_type": "code",
   "execution_count": 8,
   "metadata": {
    "collapsed": true
   },
   "outputs": [],
   "source": [
    "city_id = 5110302\n",
    "accepted_in = [1,2,3,4]\n",
    "accepted_rein = [1,2,3]\n",
    "category_list = ['3 miles', '6 miles', '9 miles', '12 miles']\n",
    "category_choice = 0\n",
    "option_choice = 0\n",
    "choice = 0\n",
    "force_temp = [True, False]"
   ]
  },
  {
   "cell_type": "code",
   "execution_count": 9,
   "metadata": {},
   "outputs": [
    {
     "name": "stdout",
     "output_type": "stream",
     "text": [
      "Today I'm running... 1)3 miles 2)6 miles 3)9 miles 4)12 miles 5|Other Options 3\n"
     ]
    }
   ],
   "source": [
    "while 1:\n",
    "    category_choice = input(\"Today I'm running... 1)3 miles 2)6 miles 3)9 miles 4)12 miles 5|Other Options \")\n",
    "    if category_choice in accepted_in:\n",
    "        choice = category_list[int(category_choice) - 1]\n",
    "        break\n",
    "    elif category_choice == '5':\n",
    "        while 1:\n",
    "            option_choice = input(\"Other Options: 1)Biking 2)Driving 3)Taking the Train 4)Back to Selection \")\n",
    "            if option_choice == '4':\n",
    "                break\n",
    "            elif option_choice in accepted_in:\n",
    "                while 1:\n",
    "                    if option_choice == '3':\n",
    "                        force_temp = True\n",
    "                        try:\n",
    "                            temp = float(input(\"What is the temperature (high) for today (in fahrenheit)? \"))\n",
    "                        except:\n",
    "                            (\"Oops. Enter a valid number.\")\n",
    "                        break\n",
    "                #outfitter()\n",
    "                #themer\n",
    "            else:\n",
    "                print(\"Oops! Enter '1', '2', '3', or '4'\")\n",
    "                continue\n",
    "    else:\n",
    "        print(\"Oops! Enter '1', '2', '3', or '4'\")\n",
    "        continue"
   ]
  },
  {
   "cell_type": "code",
   "execution_count": 15,
   "metadata": {
    "collapsed": true
   },
   "outputs": [],
   "source": [
    "#Takes input in degrees and outputs the array truncated by temperature. Prints the weather category.\n",
    "\n",
    "def select_by_degrees(degrees,categ_array):\n",
    "    if degrees >= 90:\n",
    "        weather_array = categ_array[categ_array['Weather'] >= 3]\n",
    "        print(\"Today is hot! (~%.1f F)\" %degrees)\n",
    "    elif degrees >= 70:\n",
    "        weather_array = categ_array[(categ_array['Weather'] >= 1) & (categ_array['Weather'] <= 4)]\n",
    "        print(\"Today has fair weather. (~%.1f F)\" %degrees)\n",
    "    else:\n",
    "        weather_array = categ_array[(categ_array['Weather'] <= 1) | (categ_array['Weather'] == 3)]\n",
    "        print(\"Today is cold... (~%.1f degrees F)\" %degrees)\n",
    "    return(weather_array)"
   ]
  },
  {
   "cell_type": "code",
   "execution_count": 16,
   "metadata": {},
   "outputs": [],
   "source": [
    "#OWM implementation uses Open Weather Map API to find today's forecast for Brooklyn. Manual input if cannot be accessed.\n",
    "\n",
    "def select_by_inputs(categ_array):\n",
    "    #try:\n",
    "    owm = OWM('0d68d0be097dc01d8a14a1ff41785d03', version= '2.5')\n",
    "    fc = owm.daily_forecast_at_id(city_id) \n",
    "    f = fc.get_forecast()\n",
    "    print(f.get_weathers())\n",
    "    w = f.get_weathers()[0]\n",
    "    print (w.get_temperature('fahrenheit')['max'])\n",
    "    temp = (float(w.get_temperature('fahrenheit')['max']))\n",
    "    #if force_temp == False:\n",
    "        #temp = (float(w.get_temperature('fahrenheit')['max']))\n",
    "        #rain = fc.will_have_rain()\n",
    "        ##if rain == True:\n",
    "            #print(\"Rainy day! Bring an umbrella.\")\n",
    "   #except:\n",
    "        #while 1:\n",
    "            #try:\n",
    "                #temp = float(input(\"What is the temperature (high) for today? (in fahrenheit) \"))\n",
    "                #break\n",
    "            #except:\n",
    "                #print(\"Oops! Enter a number.\")\n",
    "                #continue\n",
    "    weather_array = select_by_degrees(temp, categ_array)\n",
    "    return list(weather_array['Baselayer'])"
   ]
  },
  {
   "cell_type": "code",
   "execution_count": 17,
   "metadata": {},
   "outputs": [
    {
     "name": "stdout",
     "output_type": "stream",
     "text": [
      "[<pyowm.webapi25.weather.Weather - reference time=2019-04-18 16:00:00+00, status=Clouds>, <pyowm.webapi25.weather.Weather - reference time=2019-04-19 16:00:00+00, status=Rain>, <pyowm.webapi25.weather.Weather - reference time=2019-04-20 16:00:00+00, status=Rain>, <pyowm.webapi25.weather.Weather - reference time=2019-04-21 16:00:00+00, status=Clear>, <pyowm.webapi25.weather.Weather - reference time=2019-04-22 16:00:00+00, status=Rain>, <pyowm.webapi25.weather.Weather - reference time=2019-04-23 16:00:00+00, status=Rain>, <pyowm.webapi25.weather.Weather - reference time=2019-04-24 16:00:00+00, status=Clouds>]\n",
      "58.17\n",
      "Today is cold... (~58.2 degrees F)\n",
      "9 miles, huh? Maybe one of these...\n",
      "\n",
      "\n",
      "('1.', 'Pants/T-Shirt/Jacket')\n",
      "\n",
      "\n",
      "('2.', 'Capris/Long Sleeve/Jacket')\n",
      "\n",
      "\n",
      "('3.', 'Pants/Tank Top/Jacket')\n",
      "\n",
      "\n"
     ]
    }
   ],
   "source": [
    "df = pd.read_csv('/Users/windyseng/baselayer/baselayer.csv')\n",
    "categ_array = df[df[choice] == 1]\n",
    "outfit_list = select_by_inputs(categ_array)\n",
    "\n",
    "#Selects 3 random elements of outfit_list and prints them.\n",
    "\n",
    "def outfit_print():\n",
    "    global rand_list\n",
    "    if len(outfit_list) >= 3:\n",
    "        rand_list = (np.random.choice(outfit_list, 3, replace=False))\n",
    "    else:\n",
    "        rand_list = (np.random.choice(outfit_list, len(outfit_list), replace=False))\n",
    "\n",
    "    print(''+choice+', huh? Maybe one of these...') \n",
    "    print(\"\\n\")\n",
    "    print(\"1.\",rand_list[0])\n",
    "    print(\"\\n\")\n",
    "    print(\"2.\",rand_list[1])\n",
    "    print(\"\\n\")\n",
    "    print(\"3.\",rand_list[2])\n",
    "    print(\"\\n\")\n",
    "    \n",
    "outfit_print()"
   ]
  },
  {
   "cell_type": "code",
   "execution_count": 27,
   "metadata": {},
   "outputs": [
    {
     "name": "stdout",
     "output_type": "stream",
     "text": [
      "Which did you choose? Or type \"none\" to reroll.3\n",
      "4         Shorts/T-Shirt/Jacket\n",
      "5     Shorts/Long Sleeve/Jacket\n",
      "8            Capris/Long Sleeve\n",
      "9        Capris/Tank Top/Jacket\n",
      "10        Capris/T-Shirt/Jacket\n",
      "11    Capris/Long Sleeve/Jacket\n",
      "15        Pants/Tank Top/Jacket\n",
      "16         Pants/T-Shirt/Jacket\n",
      "17     Pants/Long Sleeve/Jacket\n",
      "Name: Baselayer, dtype: object\n"
     ]
    }
   ],
   "source": [
    "while 1:\n",
    "    reinput = input('Which did you choose? Or type \"none\" to reroll.')\n",
    "    if reinput in accepted_rein:\n",
    "        #placeholder for use count increase code\n",
    "        break\n",
    "    elif reinput == 'none' or reinput == 'None':\n",
    "        outfit_print()\n",
    "    else:\n",
    "        print(\"Oops! Enter '1', '2', or '3'\")\n",
    "        continue\n",
    "\n",
    "#rechoice = rand_list[int(reinput)-1]\n",
    "#df.loc[:,'Use_count']=0\n",
    "#print(df)\n",
    "\n",
    "\n",
    "# In[7]:\n",
    "\n",
    "df = pd.read_csv(\"baselayer.csv\")\n",
    "weathered = (df[df['Weather'] <= 1])\n",
    "print(weathered['Baselayer'])"
   ]
  },
  {
   "cell_type": "code",
   "execution_count": null,
   "metadata": {
    "collapsed": true
   },
   "outputs": [],
   "source": []
  }
 ],
 "metadata": {
  "kernelspec": {
   "display_name": "Python 2",
   "language": "python",
   "name": "python2"
  },
  "language_info": {
   "codemirror_mode": {
    "name": "ipython",
    "version": 2
   },
   "file_extension": ".py",
   "mimetype": "text/x-python",
   "name": "python",
   "nbconvert_exporter": "python",
   "pygments_lexer": "ipython2",
   "version": "2.7.13"
  }
 },
 "nbformat": 4,
 "nbformat_minor": 2
}
